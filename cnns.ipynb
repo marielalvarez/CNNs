{
  "nbformat": 4,
  "nbformat_minor": 0,
  "metadata": {
    "colab": {
      "provenance": [],
      "gpuType": "T4"
    },
    "kernelspec": {
      "name": "python3",
      "display_name": "Python 3"
    },
    "language_info": {
      "name": "python"
    },
    "accelerator": "GPU"
  },
  "cells": [
    {
      "cell_type": "code",
      "execution_count": null,
      "metadata": {
        "id": "K1rg5yEno1eh",
        "colab": {
          "base_uri": "https://localhost:8080/"
        },
        "outputId": "2bcf96ca-ffec-42c5-ad76-dca80a73209c"
      },
      "outputs": [
        {
          "output_type": "stream",
          "name": "stderr",
          "text": [
            "/usr/local/lib/python3.11/dist-packages/huggingface_hub/utils/_auth.py:94: UserWarning: \n",
            "The secret `HF_TOKEN` does not exist in your Colab secrets.\n",
            "To authenticate with the Hugging Face Hub, create a token in your settings tab (https://huggingface.co/settings/tokens), set it as secret in your Google Colab and restart your session.\n",
            "You will be able to reuse this secret in all of your notebooks.\n",
            "Please note that authentication is recommended but still optional to access public models or datasets.\n",
            "  warnings.warn(\n"
          ]
        }
      ],
      "source": [
        "import pandas as pd\n",
        "\n",
        "splits = {\n",
        "    'train': 'data/train-00000-of-00001.parquet',\n",
        "    'validation': 'data/validation-00000-of-00001.parquet',\n",
        "    'test': 'data/test-00000-of-00001.parquet'\n",
        "}\n",
        "df_train = pd.read_parquet(\"hf://datasets/AI-Lab-Makerere/beans/\" + splits[\"train\"])\n",
        "df_val = pd.read_parquet(\"hf://datasets/AI-Lab-Makerere/beans/\" + splits[\"validation\"])"
      ]
    },
    {
      "cell_type": "code",
      "source": [
        "df_train.head()"
      ],
      "metadata": {
        "colab": {
          "base_uri": "https://localhost:8080/",
          "height": 206
        },
        "id": "7zvooCepqRie",
        "outputId": "2e17fa8c-dc90-4309-a119-27d145baee5c"
      },
      "execution_count": null,
      "outputs": [
        {
          "output_type": "execute_result",
          "data": {
            "text/plain": [
              "                                     image_file_path  \\\n",
              "0  /home/albert/.cache/huggingface/datasets/downl...   \n",
              "1  /home/albert/.cache/huggingface/datasets/downl...   \n",
              "2  /home/albert/.cache/huggingface/datasets/downl...   \n",
              "3  /home/albert/.cache/huggingface/datasets/downl...   \n",
              "4  /home/albert/.cache/huggingface/datasets/downl...   \n",
              "\n",
              "                                               image  labels  \n",
              "0  {'bytes': b'\\xff\\xd8\\xff\\xe0\\x00\\x10JFIF\\x00\\x...       0  \n",
              "1  {'bytes': b'\\xff\\xd8\\xff\\xe0\\x00\\x10JFIF\\x00\\x...       0  \n",
              "2  {'bytes': b'\\xff\\xd8\\xff\\xe0\\x00\\x10JFIF\\x00\\x...       0  \n",
              "3  {'bytes': b'\\xff\\xd8\\xff\\xe0\\x00\\x10JFIF\\x00\\x...       0  \n",
              "4  {'bytes': b'\\xff\\xd8\\xff\\xe0\\x00\\x10JFIF\\x00\\x...       0  "
            ],
            "text/html": [
              "\n",
              "  <div id=\"df-2e6cfed0-e5e2-4152-9b1e-83e2e5180e3a\" class=\"colab-df-container\">\n",
              "    <div>\n",
              "<style scoped>\n",
              "    .dataframe tbody tr th:only-of-type {\n",
              "        vertical-align: middle;\n",
              "    }\n",
              "\n",
              "    .dataframe tbody tr th {\n",
              "        vertical-align: top;\n",
              "    }\n",
              "\n",
              "    .dataframe thead th {\n",
              "        text-align: right;\n",
              "    }\n",
              "</style>\n",
              "<table border=\"1\" class=\"dataframe\">\n",
              "  <thead>\n",
              "    <tr style=\"text-align: right;\">\n",
              "      <th></th>\n",
              "      <th>image_file_path</th>\n",
              "      <th>image</th>\n",
              "      <th>labels</th>\n",
              "    </tr>\n",
              "  </thead>\n",
              "  <tbody>\n",
              "    <tr>\n",
              "      <th>0</th>\n",
              "      <td>/home/albert/.cache/huggingface/datasets/downl...</td>\n",
              "      <td>{'bytes': b'\\xff\\xd8\\xff\\xe0\\x00\\x10JFIF\\x00\\x...</td>\n",
              "      <td>0</td>\n",
              "    </tr>\n",
              "    <tr>\n",
              "      <th>1</th>\n",
              "      <td>/home/albert/.cache/huggingface/datasets/downl...</td>\n",
              "      <td>{'bytes': b'\\xff\\xd8\\xff\\xe0\\x00\\x10JFIF\\x00\\x...</td>\n",
              "      <td>0</td>\n",
              "    </tr>\n",
              "    <tr>\n",
              "      <th>2</th>\n",
              "      <td>/home/albert/.cache/huggingface/datasets/downl...</td>\n",
              "      <td>{'bytes': b'\\xff\\xd8\\xff\\xe0\\x00\\x10JFIF\\x00\\x...</td>\n",
              "      <td>0</td>\n",
              "    </tr>\n",
              "    <tr>\n",
              "      <th>3</th>\n",
              "      <td>/home/albert/.cache/huggingface/datasets/downl...</td>\n",
              "      <td>{'bytes': b'\\xff\\xd8\\xff\\xe0\\x00\\x10JFIF\\x00\\x...</td>\n",
              "      <td>0</td>\n",
              "    </tr>\n",
              "    <tr>\n",
              "      <th>4</th>\n",
              "      <td>/home/albert/.cache/huggingface/datasets/downl...</td>\n",
              "      <td>{'bytes': b'\\xff\\xd8\\xff\\xe0\\x00\\x10JFIF\\x00\\x...</td>\n",
              "      <td>0</td>\n",
              "    </tr>\n",
              "  </tbody>\n",
              "</table>\n",
              "</div>\n",
              "    <div class=\"colab-df-buttons\">\n",
              "\n",
              "  <div class=\"colab-df-container\">\n",
              "    <button class=\"colab-df-convert\" onclick=\"convertToInteractive('df-2e6cfed0-e5e2-4152-9b1e-83e2e5180e3a')\"\n",
              "            title=\"Convert this dataframe to an interactive table.\"\n",
              "            style=\"display:none;\">\n",
              "\n",
              "  <svg xmlns=\"http://www.w3.org/2000/svg\" height=\"24px\" viewBox=\"0 -960 960 960\">\n",
              "    <path d=\"M120-120v-720h720v720H120Zm60-500h600v-160H180v160Zm220 220h160v-160H400v160Zm0 220h160v-160H400v160ZM180-400h160v-160H180v160Zm440 0h160v-160H620v160ZM180-180h160v-160H180v160Zm440 0h160v-160H620v160Z\"/>\n",
              "  </svg>\n",
              "    </button>\n",
              "\n",
              "  <style>\n",
              "    .colab-df-container {\n",
              "      display:flex;\n",
              "      gap: 12px;\n",
              "    }\n",
              "\n",
              "    .colab-df-convert {\n",
              "      background-color: #E8F0FE;\n",
              "      border: none;\n",
              "      border-radius: 50%;\n",
              "      cursor: pointer;\n",
              "      display: none;\n",
              "      fill: #1967D2;\n",
              "      height: 32px;\n",
              "      padding: 0 0 0 0;\n",
              "      width: 32px;\n",
              "    }\n",
              "\n",
              "    .colab-df-convert:hover {\n",
              "      background-color: #E2EBFA;\n",
              "      box-shadow: 0px 1px 2px rgba(60, 64, 67, 0.3), 0px 1px 3px 1px rgba(60, 64, 67, 0.15);\n",
              "      fill: #174EA6;\n",
              "    }\n",
              "\n",
              "    .colab-df-buttons div {\n",
              "      margin-bottom: 4px;\n",
              "    }\n",
              "\n",
              "    [theme=dark] .colab-df-convert {\n",
              "      background-color: #3B4455;\n",
              "      fill: #D2E3FC;\n",
              "    }\n",
              "\n",
              "    [theme=dark] .colab-df-convert:hover {\n",
              "      background-color: #434B5C;\n",
              "      box-shadow: 0px 1px 3px 1px rgba(0, 0, 0, 0.15);\n",
              "      filter: drop-shadow(0px 1px 2px rgba(0, 0, 0, 0.3));\n",
              "      fill: #FFFFFF;\n",
              "    }\n",
              "  </style>\n",
              "\n",
              "    <script>\n",
              "      const buttonEl =\n",
              "        document.querySelector('#df-2e6cfed0-e5e2-4152-9b1e-83e2e5180e3a button.colab-df-convert');\n",
              "      buttonEl.style.display =\n",
              "        google.colab.kernel.accessAllowed ? 'block' : 'none';\n",
              "\n",
              "      async function convertToInteractive(key) {\n",
              "        const element = document.querySelector('#df-2e6cfed0-e5e2-4152-9b1e-83e2e5180e3a');\n",
              "        const dataTable =\n",
              "          await google.colab.kernel.invokeFunction('convertToInteractive',\n",
              "                                                    [key], {});\n",
              "        if (!dataTable) return;\n",
              "\n",
              "        const docLinkHtml = 'Like what you see? Visit the ' +\n",
              "          '<a target=\"_blank\" href=https://colab.research.google.com/notebooks/data_table.ipynb>data table notebook</a>'\n",
              "          + ' to learn more about interactive tables.';\n",
              "        element.innerHTML = '';\n",
              "        dataTable['output_type'] = 'display_data';\n",
              "        await google.colab.output.renderOutput(dataTable, element);\n",
              "        const docLink = document.createElement('div');\n",
              "        docLink.innerHTML = docLinkHtml;\n",
              "        element.appendChild(docLink);\n",
              "      }\n",
              "    </script>\n",
              "  </div>\n",
              "\n",
              "\n",
              "    <div id=\"df-81272738-3d0a-4998-9004-31ebf61a0c42\">\n",
              "      <button class=\"colab-df-quickchart\" onclick=\"quickchart('df-81272738-3d0a-4998-9004-31ebf61a0c42')\"\n",
              "                title=\"Suggest charts\"\n",
              "                style=\"display:none;\">\n",
              "\n",
              "<svg xmlns=\"http://www.w3.org/2000/svg\" height=\"24px\"viewBox=\"0 0 24 24\"\n",
              "     width=\"24px\">\n",
              "    <g>\n",
              "        <path d=\"M19 3H5c-1.1 0-2 .9-2 2v14c0 1.1.9 2 2 2h14c1.1 0 2-.9 2-2V5c0-1.1-.9-2-2-2zM9 17H7v-7h2v7zm4 0h-2V7h2v10zm4 0h-2v-4h2v4z\"/>\n",
              "    </g>\n",
              "</svg>\n",
              "      </button>\n",
              "\n",
              "<style>\n",
              "  .colab-df-quickchart {\n",
              "      --bg-color: #E8F0FE;\n",
              "      --fill-color: #1967D2;\n",
              "      --hover-bg-color: #E2EBFA;\n",
              "      --hover-fill-color: #174EA6;\n",
              "      --disabled-fill-color: #AAA;\n",
              "      --disabled-bg-color: #DDD;\n",
              "  }\n",
              "\n",
              "  [theme=dark] .colab-df-quickchart {\n",
              "      --bg-color: #3B4455;\n",
              "      --fill-color: #D2E3FC;\n",
              "      --hover-bg-color: #434B5C;\n",
              "      --hover-fill-color: #FFFFFF;\n",
              "      --disabled-bg-color: #3B4455;\n",
              "      --disabled-fill-color: #666;\n",
              "  }\n",
              "\n",
              "  .colab-df-quickchart {\n",
              "    background-color: var(--bg-color);\n",
              "    border: none;\n",
              "    border-radius: 50%;\n",
              "    cursor: pointer;\n",
              "    display: none;\n",
              "    fill: var(--fill-color);\n",
              "    height: 32px;\n",
              "    padding: 0;\n",
              "    width: 32px;\n",
              "  }\n",
              "\n",
              "  .colab-df-quickchart:hover {\n",
              "    background-color: var(--hover-bg-color);\n",
              "    box-shadow: 0 1px 2px rgba(60, 64, 67, 0.3), 0 1px 3px 1px rgba(60, 64, 67, 0.15);\n",
              "    fill: var(--button-hover-fill-color);\n",
              "  }\n",
              "\n",
              "  .colab-df-quickchart-complete:disabled,\n",
              "  .colab-df-quickchart-complete:disabled:hover {\n",
              "    background-color: var(--disabled-bg-color);\n",
              "    fill: var(--disabled-fill-color);\n",
              "    box-shadow: none;\n",
              "  }\n",
              "\n",
              "  .colab-df-spinner {\n",
              "    border: 2px solid var(--fill-color);\n",
              "    border-color: transparent;\n",
              "    border-bottom-color: var(--fill-color);\n",
              "    animation:\n",
              "      spin 1s steps(1) infinite;\n",
              "  }\n",
              "\n",
              "  @keyframes spin {\n",
              "    0% {\n",
              "      border-color: transparent;\n",
              "      border-bottom-color: var(--fill-color);\n",
              "      border-left-color: var(--fill-color);\n",
              "    }\n",
              "    20% {\n",
              "      border-color: transparent;\n",
              "      border-left-color: var(--fill-color);\n",
              "      border-top-color: var(--fill-color);\n",
              "    }\n",
              "    30% {\n",
              "      border-color: transparent;\n",
              "      border-left-color: var(--fill-color);\n",
              "      border-top-color: var(--fill-color);\n",
              "      border-right-color: var(--fill-color);\n",
              "    }\n",
              "    40% {\n",
              "      border-color: transparent;\n",
              "      border-right-color: var(--fill-color);\n",
              "      border-top-color: var(--fill-color);\n",
              "    }\n",
              "    60% {\n",
              "      border-color: transparent;\n",
              "      border-right-color: var(--fill-color);\n",
              "    }\n",
              "    80% {\n",
              "      border-color: transparent;\n",
              "      border-right-color: var(--fill-color);\n",
              "      border-bottom-color: var(--fill-color);\n",
              "    }\n",
              "    90% {\n",
              "      border-color: transparent;\n",
              "      border-bottom-color: var(--fill-color);\n",
              "    }\n",
              "  }\n",
              "</style>\n",
              "\n",
              "      <script>\n",
              "        async function quickchart(key) {\n",
              "          const quickchartButtonEl =\n",
              "            document.querySelector('#' + key + ' button');\n",
              "          quickchartButtonEl.disabled = true;  // To prevent multiple clicks.\n",
              "          quickchartButtonEl.classList.add('colab-df-spinner');\n",
              "          try {\n",
              "            const charts = await google.colab.kernel.invokeFunction(\n",
              "                'suggestCharts', [key], {});\n",
              "          } catch (error) {\n",
              "            console.error('Error during call to suggestCharts:', error);\n",
              "          }\n",
              "          quickchartButtonEl.classList.remove('colab-df-spinner');\n",
              "          quickchartButtonEl.classList.add('colab-df-quickchart-complete');\n",
              "        }\n",
              "        (() => {\n",
              "          let quickchartButtonEl =\n",
              "            document.querySelector('#df-81272738-3d0a-4998-9004-31ebf61a0c42 button');\n",
              "          quickchartButtonEl.style.display =\n",
              "            google.colab.kernel.accessAllowed ? 'block' : 'none';\n",
              "        })();\n",
              "      </script>\n",
              "    </div>\n",
              "\n",
              "    </div>\n",
              "  </div>\n"
            ],
            "application/vnd.google.colaboratory.intrinsic+json": {
              "type": "dataframe",
              "variable_name": "df_train",
              "summary": "{\n  \"name\": \"df_train\",\n  \"rows\": 1034,\n  \"fields\": [\n    {\n      \"column\": \"image_file_path\",\n      \"properties\": {\n        \"dtype\": \"string\",\n        \"num_unique_values\": 1034,\n        \"samples\": [\n          \"/home/albert/.cache/huggingface/datasets/downloads/extracted/967f0d9f61a7a8de58892c6fab6f02317c06faf3e19fba6a07b0885a9a7142c7/train/angular_leaf_spot/angular_leaf_spot_train.53.jpg\",\n          \"/home/albert/.cache/huggingface/datasets/downloads/extracted/967f0d9f61a7a8de58892c6fab6f02317c06faf3e19fba6a07b0885a9a7142c7/train/bean_rust/bean_rust_train.196.jpg\",\n          \"/home/albert/.cache/huggingface/datasets/downloads/extracted/967f0d9f61a7a8de58892c6fab6f02317c06faf3e19fba6a07b0885a9a7142c7/train/bean_rust/bean_rust_train.5.jpg\"\n        ],\n        \"semantic_type\": \"\",\n        \"description\": \"\"\n      }\n    },\n    {\n      \"column\": \"image\",\n      \"properties\": {\n        \"dtype\": \"object\",\n        \"semantic_type\": \"\",\n        \"description\": \"\"\n      }\n    },\n    {\n      \"column\": \"labels\",\n      \"properties\": {\n        \"dtype\": \"number\",\n        \"std\": 0,\n        \"min\": 0,\n        \"max\": 2,\n        \"num_unique_values\": 3,\n        \"samples\": [\n          0,\n          1,\n          2\n        ],\n        \"semantic_type\": \"\",\n        \"description\": \"\"\n      }\n    }\n  ]\n}"
            }
          },
          "metadata": {},
          "execution_count": 2
        }
      ]
    },
    {
      "cell_type": "code",
      "source": [
        "df_train.dtypes"
      ],
      "metadata": {
        "colab": {
          "base_uri": "https://localhost:8080/",
          "height": 178
        },
        "id": "HTzk0KmzqrBS",
        "outputId": "124d98e9-20a3-4db7-c1b1-e1406b43a281"
      },
      "execution_count": null,
      "outputs": [
        {
          "output_type": "execute_result",
          "data": {
            "text/plain": [
              "image_file_path    object\n",
              "image              object\n",
              "labels              int64\n",
              "dtype: object"
            ],
            "text/html": [
              "<div>\n",
              "<style scoped>\n",
              "    .dataframe tbody tr th:only-of-type {\n",
              "        vertical-align: middle;\n",
              "    }\n",
              "\n",
              "    .dataframe tbody tr th {\n",
              "        vertical-align: top;\n",
              "    }\n",
              "\n",
              "    .dataframe thead th {\n",
              "        text-align: right;\n",
              "    }\n",
              "</style>\n",
              "<table border=\"1\" class=\"dataframe\">\n",
              "  <thead>\n",
              "    <tr style=\"text-align: right;\">\n",
              "      <th></th>\n",
              "      <th>0</th>\n",
              "    </tr>\n",
              "  </thead>\n",
              "  <tbody>\n",
              "    <tr>\n",
              "      <th>image_file_path</th>\n",
              "      <td>object</td>\n",
              "    </tr>\n",
              "    <tr>\n",
              "      <th>image</th>\n",
              "      <td>object</td>\n",
              "    </tr>\n",
              "    <tr>\n",
              "      <th>labels</th>\n",
              "      <td>int64</td>\n",
              "    </tr>\n",
              "  </tbody>\n",
              "</table>\n",
              "</div><br><label><b>dtype:</b> object</label>"
            ]
          },
          "metadata": {},
          "execution_count": 3
        }
      ]
    },
    {
      "cell_type": "code",
      "source": [
        "df_train.labels.hist()"
      ],
      "metadata": {
        "colab": {
          "base_uri": "https://localhost:8080/",
          "height": 447
        },
        "id": "m6TuMPeVqtus",
        "outputId": "9703dc92-8c14-435d-c3ab-f4241116dfff"
      },
      "execution_count": null,
      "outputs": [
        {
          "output_type": "execute_result",
          "data": {
            "text/plain": [
              "<Axes: >"
            ]
          },
          "metadata": {},
          "execution_count": 4
        },
        {
          "output_type": "display_data",
          "data": {
            "text/plain": [
              "<Figure size 640x480 with 1 Axes>"
            ],
            "image/png": "[encoded data removed]"
          },
          "metadata": {}
        }
      ]
    },
    {
      "cell_type": "code",
      "source": [
        "df_test = pd.read_parquet(\"hf://datasets/AI-Lab-Makerere/beans/\" + splits[\"test\"])"
      ],
      "metadata": {
        "id": "hPDonppavY7F"
      },
      "execution_count": null,
      "outputs": []
    },
    {
      "cell_type": "markdown",
      "source": [
        "# Preprocessing"
      ],
      "metadata": {
        "id": "6dW11adXrqTl"
      }
    },
    {
      "cell_type": "code",
      "source": [
        "import io, os, numpy as np, pandas as pd\n",
        "from PIL import Image\n",
        "import matplotlib.pyplot as plt; import seaborn as sns\n",
        "\n",
        "import tensorflow as tf\n",
        "from tensorflow import keras\n",
        "from tensorflow.keras import layers\n",
        "from sklearn.metrics import classification_report, confusion_matrix\n",
        "\n",
        "\n",
        "def decode_gray(byte_data, size=(28,28)):\n",
        "    img = Image.open(io.BytesIO(byte_data)).convert(\"L\").resize(size)\n",
        "    return np.asarray(img, dtype=np.float32) / 255.0\n",
        "\n",
        "def prep_gray(df):\n",
        "    X = np.stack([decode_gray(row[\"image\"][\"bytes\"])       for _,row in df.iterrows()])[..., np.newaxis]\n",
        "    y = df[\"labels\"].values.astype(\"int32\")\n",
        "    return X, y\n",
        "\n",
        "def decode_rgb(byte_data, size=(224,224)):\n",
        "    img = Image.open(io.BytesIO(byte_data)).convert(\"RGB\").resize(size)\n",
        "    return np.asarray(img, dtype=np.float32)\n",
        "\n",
        "def prep_rgb(df, preprocess_fn):\n",
        "    X = np.stack([decode_rgb(row[\"image\"][\"bytes\"])        for _,row in df.iterrows()])\n",
        "    X = preprocess_fn(X)\n",
        "    y = df[\"labels\"].values.astype(\"int32\")\n",
        "    return X, y\n",
        "\n",
        "\n",
        "Xtr_g, ytr = prep_gray(df_train)\n",
        "Xval_g, yval= prep_gray(df_val)\n",
        "Xte_g, yte  = prep_gray(df_test)\n"
      ],
      "metadata": {
        "id": "KwcYdgm_rxDO"
      },
      "execution_count": null,
      "outputs": []
    },
    {
      "cell_type": "markdown",
      "source": [
        "# Training Baseline"
      ],
      "metadata": {
        "id": "lNVx-NZCr8HI"
      }
    },
    {
      "cell_type": "code",
      "source": [
        "inputs = keras.Input(shape=(28,28,1))\n",
        "x = layers.Conv2D(32, 3, activation='relu')(inputs)\n",
        "x = layers.Conv2D(64, 3, activation='relu')(x)\n",
        "x = layers.Conv2D(128,3, activation='relu')(x)\n",
        "x = layers.Flatten()(x)\n",
        "outputs = layers.Dense(3, activation='softmax')(x)\n",
        "\n",
        "baseline = keras.Model(inputs, outputs, name=\"baseline_28x28\")\n",
        "baseline.compile(optimizer='adam', loss='sparse_categorical_crossentropy', metrics=['accuracy'])\n",
        "\n",
        "print(\"\\n Training BASELINE …\")\n",
        "baseline.fit(Xtr_g, ytr, validation_data=(Xval_g,yval), epochs=5, batch_size=32)\n"
      ],
      "metadata": {
        "colab": {
          "base_uri": "https://localhost:8080/"
        },
        "id": "SQG-zdIlr_Zk",
        "outputId": "6a87f29a-a62b-43fa-e0a9-fcb655322d70"
      },
      "execution_count": null,
      "outputs": [
        {
          "output_type": "stream",
          "name": "stdout",
          "text": [
            "\n",
            " Training BASELINE …\n",
            "Epoch 1/5\n",
            "\u001b[1m33/33\u001b[0m \u001b[32m━━━━━━━━━━━━━━━━━━━━\u001b[0m\u001b[37m\u001b[0m \u001b[1m7s\u001b[0m 77ms/step - accuracy: 0.3980 - loss: 1.0988 - val_accuracy: 0.4962 - val_loss: 1.0331\n",
            "Epoch 2/5\n",
            "\u001b[1m33/33\u001b[0m \u001b[32m━━━━━━━━━━━━━━━━━━━━\u001b[0m\u001b[37m\u001b[0m \u001b[1m0s\u001b[0m 6ms/step - accuracy: 0.5567 - loss: 0.9379 - val_accuracy: 0.5639 - val_loss: 0.9862\n",
            "Epoch 3/5\n",
            "\u001b[1m33/33\u001b[0m \u001b[32m━━━━━━━━━━━━━━━━━━━━\u001b[0m\u001b[37m\u001b[0m \u001b[1m0s\u001b[0m 8ms/step - accuracy: 0.5923 - loss: 0.8854 - val_accuracy: 0.5639 - val_loss: 0.9691\n",
            "Epoch 4/5\n",
            "\u001b[1m33/33\u001b[0m \u001b[32m━━━━━━━━━━━━━━━━━━━━\u001b[0m\u001b[37m\u001b[0m \u001b[1m0s\u001b[0m 6ms/step - accuracy: 0.6325 - loss: 0.8174 - val_accuracy: 0.5639 - val_loss: 1.0497\n",
            "Epoch 5/5\n",
            "\u001b[1m33/33\u001b[0m \u001b[32m━━━━━━━━━━━━━━━━━━━━\u001b[0m\u001b[37m\u001b[0m \u001b[1m0s\u001b[0m 7ms/step - accuracy: 0.6572 - loss: 0.7625 - val_accuracy: 0.5414 - val_loss: 0.9199\n"
          ]
        },
        {
          "output_type": "execute_result",
          "data": {
            "text/plain": [
              "<keras.src.callbacks.history.History at 0x79f67bcb8750>"
            ]
          },
          "metadata": {},
          "execution_count": 7
        }
      ]
    },
    {
      "cell_type": "markdown",
      "source": [
        "## Pre-trained CNN - Model 1"
      ],
      "metadata": {
        "id": "VJXK2FZpCAti"
      }
    },
    {
      "cell_type": "code",
      "source": [
        "\n",
        "def make_tl_model(backbone, n_classes=3, trainable_fraction=0.2):\n",
        "    backbone.trainable = False\n",
        "    model = keras.Sequential([\n",
        "        backbone,\n",
        "        layers.GlobalAveragePooling2D(),\n",
        "        layers.Dropout(0.2),\n",
        "        layers.Dense(128, activation='relu'),\n",
        "        layers.Dense(n_classes, activation='softmax')\n",
        "    ])\n",
        "    if trainable_fraction>0:\n",
        "        n = len(backbone.layers)\n",
        "        for layer in backbone.layers[int((1-trainable_fraction)*n):]:\n",
        "            layer.trainable = True\n",
        "    model.compile(optimizer=keras.optimizers.Adam(1e-4),\n",
        "                  loss='sparse_categorical_crossentropy',\n",
        "                  metrics=['accuracy'])\n",
        "    return model\n",
        "\n",
        "def train_tl(model_name, builder, preprocess_fn):\n",
        "    print(f\"\\n Training {model_name} …\")\n",
        "    Xtr_rgb, ytr_rgb   = prep_rgb(df_train, preprocess_fn)\n",
        "    Xval_rgb, yval_rgb = prep_rgb(df_val,   preprocess_fn)\n",
        "    Xte_rgb,  yte_rgb  = prep_rgb(df_test,  preprocess_fn)\n",
        "    model = builder()\n",
        "    model.fit(Xtr_rgb, ytr_rgb,\n",
        "              validation_data=(Xval_rgb, yval_rgb),\n",
        "              epochs=5, batch_size=32)\n",
        "    return model, (Xte_rgb, yte_rgb)\n",
        "\n",
        "#MODEL A – MobileNetV2\n",
        "from tensorflow.keras.applications import MobileNetV2\n",
        "from tensorflow.keras.applications.mobilenet_v2 import preprocess_input as mobilenet_pre\n",
        "\n",
        "mobilenet_builder = lambda: make_tl_model(\n",
        "    MobileNetV2(weights='imagenet', include_top=False, input_shape=(224,224,3)),\n",
        "    n_classes=3, trainable_fraction=0.3)\n",
        "\n",
        "mobilenet, test_rgb_mn = train_tl(\"MobileNetV2\", mobilenet_builder, mobilenet_pre)\n",
        "\n",
        "\n"
      ],
      "metadata": {
        "colab": {
          "base_uri": "https://localhost:8080/"
        },
        "id": "eNKTi1JlCDCF",
        "outputId": "48eeb296-a479-4b55-d298-f1cd34c4fa16"
      },
      "execution_count": null,
      "outputs": [
        {
          "output_type": "stream",
          "name": "stdout",
          "text": [
            "\n",
            " Training MobileNetV2 …\n",
            "Downloading data from https://storage.googleapis.com/tensorflow/keras-applications/mobilenet_v2/mobilenet_v2_weights_tf_dim_ordering_tf_kernels_1.0_224_no_top.h5\n",
            "\u001b[1m9406464/9406464\u001b[0m \u001b[32m━━━━━━━━━━━━━━━━━━━━\u001b[0m\u001b[37m\u001b[0m \u001b[1m0s\u001b[0m 0us/step\n",
            "Epoch 1/5\n",
            "\u001b[1m33/33\u001b[0m \u001b[32m━━━━━━━━━━━━━━━━━━━━\u001b[0m\u001b[37m\u001b[0m \u001b[1m37s\u001b[0m 492ms/step - accuracy: 0.6011 - loss: 0.8581 - val_accuracy: 0.8496 - val_loss: 0.4104\n",
            "Epoch 2/5\n",
            "\u001b[1m33/33\u001b[0m \u001b[32m━━━━━━━━━━━━━━━━━━━━\u001b[0m\u001b[37m\u001b[0m \u001b[1m2s\u001b[0m 47ms/step - accuracy: 0.9519 - loss: 0.1533 - val_accuracy: 0.8195 - val_loss: 0.4293\n",
            "Epoch 3/5\n",
            "\u001b[1m33/33\u001b[0m \u001b[32m━━━━━━━━━━━━━━━━━━━━\u001b[0m\u001b[37m\u001b[0m \u001b[1m2s\u001b[0m 47ms/step - accuracy: 0.9894 - loss: 0.0636 - val_accuracy: 0.8271 - val_loss: 0.4284\n",
            "Epoch 4/5\n",
            "\u001b[1m33/33\u001b[0m \u001b[32m━━━━━━━━━━━━━━━━━━━━\u001b[0m\u001b[37m\u001b[0m \u001b[1m3s\u001b[0m 52ms/step - accuracy: 0.9996 - loss: 0.0189 - val_accuracy: 0.8496 - val_loss: 0.4181\n",
            "Epoch 5/5\n",
            "\u001b[1m33/33\u001b[0m \u001b[32m━━━━━━━━━━━━━━━━━━━━\u001b[0m\u001b[37m\u001b[0m \u001b[1m3s\u001b[0m 56ms/step - accuracy: 1.0000 - loss: 0.0141 - val_accuracy: 0.8797 - val_loss: 0.3617\n"
          ]
        }
      ]
    },
    {
      "cell_type": "markdown",
      "source": [
        "# Pretrained Model 2"
      ],
      "metadata": {
        "id": "xPtTzIHzsOHz"
      }
    },
    {
      "cell_type": "code",
      "source": [
        "#MODEL B – ResNet50\n",
        "\n",
        "from tensorflow.keras.applications import ResNet50\n",
        "from tensorflow.keras.applications.resnet50 import preprocess_input as resnet_pre\n",
        "\n",
        "resnet_builder = lambda: make_tl_model(\n",
        "    ResNet50(weights='imagenet', include_top=False, input_shape=(224,224,3)),\n",
        "    n_classes=3, trainable_fraction=0.2)\n",
        "\n",
        "resnet, test_rgb_rs = train_tl(\"ResNet50\", resnet_builder, resnet_pre)"
      ],
      "metadata": {
        "colab": {
          "base_uri": "https://localhost:8080/"
        },
        "id": "Yv23_1qlsRHd",
        "outputId": "9a2d1ed2-bed3-4e5e-a420-a5bbe5d3d5be"
      },
      "execution_count": null,
      "outputs": [
        {
          "output_type": "stream",
          "name": "stdout",
          "text": [
            "\n",
            " Training ResNet50 …\n",
            "Downloading data from https://storage.googleapis.com/tensorflow/keras-applications/resnet/resnet50_weights_tf_dim_ordering_tf_kernels_notop.h5\n",
            "\u001b[1m94765736/94765736\u001b[0m \u001b[32m━━━━━━━━━━━━━━━━━━━━\u001b[0m\u001b[37m\u001b[0m \u001b[1m0s\u001b[0m 0us/step\n",
            "Epoch 1/5\n",
            "\u001b[1m33/33\u001b[0m \u001b[32m━━━━━━━━━━━━━━━━━━━━\u001b[0m\u001b[37m\u001b[0m \u001b[1m43s\u001b[0m 598ms/step - accuracy: 0.6981 - loss: 0.7023 - val_accuracy: 0.9248 - val_loss: 0.2066\n",
            "Epoch 2/5\n",
            "\u001b[1m33/33\u001b[0m \u001b[32m━━━━━━━━━━━━━━━━━━━━\u001b[0m\u001b[37m\u001b[0m \u001b[1m16s\u001b[0m 136ms/step - accuracy: 0.9828 - loss: 0.0663 - val_accuracy: 0.9248 - val_loss: 0.1780\n",
            "Epoch 3/5\n",
            "\u001b[1m33/33\u001b[0m \u001b[32m━━━━━━━━━━━━━━━━━━━━\u001b[0m\u001b[37m\u001b[0m \u001b[1m5s\u001b[0m 138ms/step - accuracy: 0.9953 - loss: 0.0207 - val_accuracy: 0.9323 - val_loss: 0.1588\n",
            "Epoch 4/5\n",
            "\u001b[1m33/33\u001b[0m \u001b[32m━━━━━━━━━━━━━━━━━━━━\u001b[0m\u001b[37m\u001b[0m \u001b[1m5s\u001b[0m 137ms/step - accuracy: 1.0000 - loss: 0.0053 - val_accuracy: 0.9248 - val_loss: 0.1479\n",
            "Epoch 5/5\n",
            "\u001b[1m33/33\u001b[0m \u001b[32m━━━━━━━━━━━━━━━━━━━━\u001b[0m\u001b[37m\u001b[0m \u001b[1m5s\u001b[0m 148ms/step - accuracy: 1.0000 - loss: 0.0030 - val_accuracy: 0.9398 - val_loss: 0.1371\n"
          ]
        }
      ]
    },
    {
      "cell_type": "markdown",
      "source": [
        "# Eval metrics"
      ],
      "metadata": {
        "id": "qpgQAmWPsD6f"
      }
    },
    {
      "cell_type": "code",
      "source": [
        "def evaluate_and_report(model, X_test, y_test, name):\n",
        "    y_pred = np.argmax(model.predict(X_test, verbose=0), axis=1)\n",
        "    print(f\"\\n══════════ {name} ══════════\")\n",
        "    print(classification_report(y_test, y_pred, target_names=['angular_leaf_spot','bean_rust','healthy']))\n",
        "    cm = confusion_matrix(y_test, y_pred)\n",
        "    plt.figure(figsize=(4,3))\n",
        "    sns.heatmap(cm, annot=True, fmt='d', cmap='Blues',\n",
        "                xticklabels=['ALS','BR','H'], yticklabels=['ALS','BR','H'])\n",
        "    plt.title(f\"{name} – Confusion Matrix\"); plt.ylabel(\"True\"); plt.xlabel(\"Predicted\")\n",
        "    plt.show()\n",
        "\n",
        "evaluate_and_report(baseline, Xte_g, yte, \"Baseline 28×28\")"
      ],
      "metadata": {
        "colab": {
          "base_uri": "https://localhost:8080/",
          "height": 541
        },
        "id": "qWZPrKcSsGB_",
        "outputId": "aeb3c8e3-1f70-41bf-c18a-c32f0ddec2d4"
      },
      "execution_count": null,
      "outputs": [
        {
          "output_type": "stream",
          "name": "stdout",
          "text": [
            "\n",
            "══════════ Baseline 28×28 ══════════\n",
            "                   precision    recall  f1-score   support\n",
            "\n",
            "angular_leaf_spot       0.57      0.63      0.60        43\n",
            "        bean_rust       0.64      0.42      0.51        43\n",
            "          healthy       0.64      0.81      0.72        42\n",
            "\n",
            "         accuracy                           0.62       128\n",
            "        macro avg       0.62      0.62      0.61       128\n",
            "     weighted avg       0.62      0.62      0.61       128\n",
            "\n"
          ]
        },
        {
          "output_type": "display_data",
          "data": {
            "text/plain": [
              "<Figure size 400x300 with 2 Axes>"
            ],
            "image/png": "[encoded data removed]"
          },
          "metadata": {}
        }
      ]
    },
    {
      "cell_type": "code",
      "source": [
        "evaluate_and_report(mobilenet, *test_rgb_mn, \"MobileNetV2 224×224\")\n"
      ],
      "metadata": {
        "id": "3oRKb1VVyWj2",
        "outputId": "dfe6cf7d-2d3b-47d1-bf0b-7913988df4e0",
        "colab": {
          "base_uri": "https://localhost:8080/",
          "height": 541
        }
      },
      "execution_count": null,
      "outputs": [
        {
          "output_type": "stream",
          "name": "stdout",
          "text": [
            "\n",
            "══════════ MobileNetV2 224×224 ══════════\n",
            "                   precision    recall  f1-score   support\n",
            "\n",
            "angular_leaf_spot       0.97      0.84      0.90        43\n",
            "        bean_rust       0.86      0.74      0.80        43\n",
            "          healthy       0.78      1.00      0.88        42\n",
            "\n",
            "         accuracy                           0.86       128\n",
            "        macro avg       0.87      0.86      0.86       128\n",
            "     weighted avg       0.87      0.86      0.86       128\n",
            "\n"
          ]
        },
        {
          "output_type": "display_data",
          "data": {
            "text/plain": [
              "<Figure size 400x300 with 2 Axes>"
            ],
            "image/png": "[encoded data removed]"
          },
          "metadata": {}
        }
      ]
    },
    {
      "cell_type": "code",
      "source": [
        "evaluate_and_report(resnet,   *test_rgb_rs, \"ResNet50 224×224\")"
      ],
      "metadata": {
        "id": "x9GKIccbyYCt",
        "outputId": "8e77b124-7fa8-4e31-a22b-5f0f969a7afc",
        "colab": {
          "base_uri": "https://localhost:8080/",
          "height": 541
        }
      },
      "execution_count": null,
      "outputs": [
        {
          "output_type": "stream",
          "name": "stdout",
          "text": [
            "\n",
            "══════════ ResNet50 224×224 ══════════\n",
            "                   precision    recall  f1-score   support\n",
            "\n",
            "angular_leaf_spot       0.95      0.95      0.95        43\n",
            "        bean_rust       0.95      0.95      0.95        43\n",
            "          healthy       1.00      1.00      1.00        42\n",
            "\n",
            "         accuracy                           0.97       128\n",
            "        macro avg       0.97      0.97      0.97       128\n",
            "     weighted avg       0.97      0.97      0.97       128\n",
            "\n"
          ]
        },
        {
          "output_type": "display_data",
          "data": {
            "text/plain": [
              "<Figure size 400x300 with 2 Axes>"
            ],
            "image/png": "[encoded data removed]"
          },
          "metadata": {}
        }
      ]
    },
    {
      "cell_type": "markdown",
      "source": [
        "# Saving to keras for Streamit"
      ],
      "metadata": {
        "id": "WDCfzAvVsWL9"
      }
    },
    {
      "cell_type": "code",
      "source": [
        "\n",
        "from pathlib import Path, PurePath\n",
        "import json, pickle\n",
        "\n",
        "Path(\"saved_models\").mkdir(exist_ok=True)\n",
        "\n",
        "baseline.save(\"saved_models/baseline.keras\")\n",
        "mobilenet.save(\"saved_models/mobilenetv2.keras\")\n",
        "resnet.save(\"saved_models/resnet50.keras\")\n",
        "\n",
        "class_names = ['angular_leaf_spot', 'bean_rust', 'healthy']\n",
        "with open(\"saved_models/classes.json\", \"w\") as f:\n",
        "    json.dump(class_names, f)\n",
        "\n",
        "def dump_report(name, y_true, y_pred):\n",
        "    rep = classification_report(y_true, y_pred, output_dict=True)\n",
        "    with open(f\"saved_models/{name}_report.json\", \"w\") as f:\n",
        "        json.dump(rep, f, indent=2)\n",
        "\n",
        "y_pred_baseline = np.argmax(baseline.predict(Xte_g), axis=1)\n",
        "dump_report(\"baseline\",   yte, y_pred_baseline)\n",
        "\n",
        "y_pred_mn = np.argmax(mobilenet.predict(test_rgb_mn[0]), axis=1)\n",
        "dump_report(\"mobilenetv2\",yte, y_pred_mn)\n",
        "\n",
        "y_pred_rs = np.argmax(resnet.predict(test_rgb_rs[0]),  axis=1)\n",
        "dump_report(\"resnet50\",   yte, y_pred_rs)\n"
      ],
      "metadata": {
        "colab": {
          "base_uri": "https://localhost:8080/"
        },
        "id": "5iAqTlSvKUD1",
        "outputId": "37d43719-613d-4692-b18f-74c7fb734ee9"
      },
      "execution_count": null,
      "outputs": [
        {
          "output_type": "stream",
          "name": "stdout",
          "text": [
            "\u001b[1m4/4\u001b[0m \u001b[32m━━━━━━━━━━━━━━━━━━━━\u001b[0m\u001b[37m\u001b[0m \u001b[1m0s\u001b[0m 9ms/step \n",
            "\u001b[1m4/4\u001b[0m \u001b[32m━━━━━━━━━━━━━━━━━━━━\u001b[0m\u001b[37m\u001b[0m \u001b[1m0s\u001b[0m 41ms/step\n",
            "\u001b[1m4/4\u001b[0m \u001b[32m━━━━━━━━━━━━━━━━━━━━\u001b[0m\u001b[37m\u001b[0m \u001b[1m0s\u001b[0m 89ms/step\n"
          ]
        }
      ]
    },
    {
      "cell_type": "code",
      "source": [],
      "metadata": {
        "id": "JuzlIYcmax4m"
      },
      "execution_count": null,
      "outputs": []
    }
  ]
}